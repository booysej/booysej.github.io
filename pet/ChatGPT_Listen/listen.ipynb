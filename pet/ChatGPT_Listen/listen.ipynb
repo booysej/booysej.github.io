{
 "cells": [
  {
   "cell_type": "code",
   "execution_count": null,
   "metadata": {},
   "outputs": [],
   "source": [
    "import speech_recognition as sr\n",
    "import requests\n",
    "import json\n"
   ]
  },
  {
   "cell_type": "code",
   "execution_count": null,
   "metadata": {},
   "outputs": [],
   "source": [
    "\n",
    "# Set up the speech recognition object\n",
    "r = sr.Recognizer()\n",
    "\n",
    "# Set up the ChatGPT API endpoint\n",
    "url = \"https://api.openai.com/v1/engines/davinci-codex/completions\"\n",
    "\n",
    "# Start listening to audio from the default microphone\n",
    "with sr.Microphone() as source:\n",
    "    print(\"Listening...\")\n",
    "    audio = r.listen(source)\n",
    "\n",
    "# Recognize the audio using the speech recognition library\n",
    "try:\n",
    "    text = r.recognize_google(audio)\n",
    "    print(\"You said: \" + text)\n",
    "except sr.UnknownValueError:\n",
    "    print(\"Could not understand audio\")\n",
    "except sr.RequestError as e:\n",
    "    print(\"Error: {0}\".format(e))\n",
    "\n",
    "# Set up the request data for the ChatGPT API\n",
    "data = {\n",
    "    \"prompt\": text,\n",
    "    \"max_tokens\": 100,\n",
    "    \"temperature\": 0.5\n",
    "}\n",
    "\n",
    "# Set up the API request headers\n",
    "headers = {\n",
    "    \"Content-Type\": \"application/json\",\n",
    "    \"Authorization\": \"Bearer YOUR_API_KEY\"\n",
    "}\n",
    "\n",
    "# Send the request to the ChatGPT API\n",
    "response = requests.post(url, data=json.dumps(data), headers=headers)\n",
    "\n",
    "# Print the response from the ChatGPT API\n",
    "print(response.json())\n"
   ]
  }
 ],
 "metadata": {
  "language_info": {
   "name": "python"
  },
  "orig_nbformat": 4
 },
 "nbformat": 4,
 "nbformat_minor": 2
}
